{
 "cells": [
  {
   "cell_type": "markdown",
   "id": "103eae11-7fac-4dd4-8b65-a01eceda0704",
   "metadata": {},
   "source": [
    "## 1. Importing Dependencies"
   ]
  },
  {
   "cell_type": "code",
   "execution_count": null,
   "id": "4bb37b4d-0e28-4690-b8c3-aeb86e3b7efd",
   "metadata": {},
   "outputs": [],
   "source": [
    "import matplotlib.pyplot as plt\n",
    "from skimage import io\n",
    "from pytube import Channel\n",
    "import pafy\n",
    "import os\n",
    "import urllib.request"
   ]
  },
  {
   "cell_type": "code",
   "execution_count": null,
   "id": "a23b672c-fa38-4389-abd4-78d42341e35e",
   "metadata": {},
   "outputs": [],
   "source": [
    "import os\n",
    "\n",
    "os.makedirs(os.path.join(\"Thumbnail Data\", \"Educational\"))\n",
    "os.makedirs(os.path.join(\"Thumbnail Data\", \"Non Educational\"))"
   ]
  },
  {
   "cell_type": "markdown",
   "id": "242af245-4fe0-42ff-88af-e9e4d71fd474",
   "metadata": {},
   "source": [
    "## 2. Collecting the channel videos"
   ]
  },
  {
   "cell_type": "markdown",
   "id": "3e24d77b-f99f-43a3-9dfa-4bb7ccc367a3",
   "metadata": {},
   "source": [
    "### 2.1 Educational"
   ]
  },
  {
   "cell_type": "code",
   "execution_count": null,
   "id": "c706717c-07e0-4844-bc36-359b610988ac",
   "metadata": {},
   "outputs": [],
   "source": [
    "educational_channels = [\n",
    "    \"https://www.youtube.com/c/StudyIQcoachingcenter/videos\", # -> Study IQ Education\n",
    "    \"https://www.youtube.com/c/UnacademyJEE/videos\", # -> Unacademy JEE\n",
    "    \"https://www.youtube.com/c/MahendraGuruvideos/videos\", # -> Mahendras\n",
    "    \"https://www.youtube.com/c/Lesics/videos\", # -> Lesics\n",
    "    \"https://www.youtube.com/c/nesoacademy/videos\", # -> Neso Academy\n",
    "    \"https://www.youtube.com/c/DrGajendraPurohitMathematics/videos\", # -> Gajendra Purohit\n",
    "    \"https://www.youtube.com/c/UnacademyGATE/videos\", # -> Unacademy GATE\n",
    "    \"https://www.youtube.com/c/smartereveryday/videos\", # -> Smarter Everyday\n",
    "    \"https://www.youtube.com/c/veritasium/videos\", # -> Veritasium\n",
    "    \"https://www.youtube.com/c/TED/videos\",\n",
    "    \"https://www.youtube.com/c/mitocw/videos\",\n",
    "    \"https://www.youtube.com/c/CodeWithHarry/videos\",\n",
    "    \"https://www.youtube.com/c/SimplilearnOfficial/videos\",\n",
    "    \"https://www.youtube.com/c/DataScienceCoursesUW/videos\",\n",
    "    \"https://www.youtube.com/c/PhysicsWallah/videos\",\n",
    "    \"https://www.youtube.com/c/numberphile/videos\",\n",
    "    \"https://www.youtube.com/c/physicsgirl/videos\",\n",
    "    \"https://www.youtube.com/c/TomRocksMaths/videos\",\n",
    "    \"https://www.youtube.com/c/3blue1brown/videos\",\n",
    "    \"https://www.youtube.com/c/MichelvanBiezen/videos\",\n",
    "    \"https://www.youtube.com/c/MindYourDecisions/videos\",\n",
    "    \"https://www.youtube.com/c/crashcourse/videos\",\n",
    "    \"https://www.youtube.com/c/SciShow/videos\",\n",
    "    \"https://www.youtube.com/channel/UCF7BExjT2zH_mmyqOB139Dg/videos\",\n",
    "    \"https://www.youtube.com/c/khanacademy/videos\",\n",
    "    \"https://www.youtube.com/c/MattAnderson_ProfessorMattAnderson/videos\",\n",
    "    \"https://www.youtube.com/channel/UCVLbzhxVTiTLiVKeGV7WEBg/videos\",\n",
    "    \"https://www.youtube.com/channel/UCJgq70ZWtrVIwHEDYdj-kdg/videos\",\n",
    "    \"https://www.youtube.com/c/MichaelPennMath/videos\",\n",
    "]"
   ]
  },
  {
   "cell_type": "code",
   "execution_count": null,
   "id": "30bae66e-d62a-43a1-8958-85429ae1ee8c",
   "metadata": {},
   "outputs": [],
   "source": [
    "educational_videos = []\n",
    "for educational_channel in educational_channels:\n",
    "    c = Channel(educational_channel)\n",
    "    i = 0\n",
    "    for video in c.video_urls:\n",
    "        educational_videos.append(video)\n",
    "        i += 1\n",
    "        if i == 50:\n",
    "            break"
   ]
  },
  {
   "cell_type": "code",
   "execution_count": null,
   "id": "c19cb9d7-2ab0-45a0-a3f2-dcc6e5f7f9de",
   "metadata": {},
   "outputs": [],
   "source": [
    "len(educational_videos)"
   ]
  },
  {
   "cell_type": "code",
   "execution_count": null,
   "id": "39775511-cc74-4c16-8be1-86ae90a2c8cb",
   "metadata": {},
   "outputs": [],
   "source": [
    "i = 0\n",
    "for video_url in educational_videos:\n",
    "    video = pafy.new(video_url)\n",
    "    category = video.category\n",
    "    if category != \"Education\":\n",
    "        continue\n",
    "    thumbnail_url = video.bigthumbhd\n",
    "    urllib.request.urlretrieve(thumbnail_url, os.path.join(\"Thumbnail Data\", \"Educational\", f\"{category}_{i}.jpg\"))\n",
    "    i += 1"
   ]
  },
  {
   "cell_type": "markdown",
   "id": "bdc9e001-6021-45b2-868c-febc33c2d171",
   "metadata": {},
   "source": [
    "### 2.2 Non Educational"
   ]
  },
  {
   "cell_type": "code",
   "execution_count": null,
   "id": "64f29a68-65ce-4df6-b3bc-6643ed98ec8f",
   "metadata": {},
   "outputs": [],
   "source": [
    "non_educational_channels = [\n",
    "    \"https://www.youtube.com/c/ASGamingsahil/videos\",\n",
    "    \"https://www.youtube.com/c/LOKESHGAMER/videos\",\n",
    "    \"https://www.youtube.com/c/AddictedA1/videos\",\n",
    "    \"https://www.youtube.com/aashiqui2/videos\",\n",
    "    \"https://www.youtube.com/c/SwaggerSharma/videos\",\n",
    "    \"https://www.youtube.com/user/MrBeast6000/videos\",\n",
    "    \"https://www.youtube.com/user/PewDiePie/videos\",\n",
    "    \"https://www.youtube.com/c/FlyingBeast320/videos\",\n",
    "    \"https://www.youtube.com/c/TechnicalGuruji/videos\",\n",
    "    \"https://www.youtube.com/c/ashishchanchlanivines/videos\",\n",
    "    \"https://www.youtube.com/c/setindia/videos\",\n",
    "    \"https://www.youtube.com/c/tipsofficial/videos\",\n",
    "    \"https://www.youtube.com/c/ManieshPaulOfficial/videos\",\n",
    "    \"https://www.youtube.com/channel/UCiKNX0TIMyKgGqQznhR1Xig/videos\",\n",
    "    \"https://www.youtube.com/c/BaldassarreFragrance/videos\",\n",
    "    \"https://www.youtube.com/channel/UCQvykOmBc-P4StIJT2glUkw/videos\",\n",
    "    \"https://www.youtube.com/c/mollyEskam/videos\",\n",
    "    \"https://www.youtube.com/c/abpnews/videos\",\n",
    "    \"https://www.youtube.com/c/BBCNews/videos\",\n",
    "    \"https://www.youtube.com/c/LiveInsaan/videos\",\n",
    "    \"https://www.youtube.com/c/marvel/videos\",\n",
    "    \"https://www.youtube.com/c/htdotcom/videos\",\n",
    "    \"https://www.youtube.com/c/adarshuc/videos\",\n",
    "    \"https://www.youtube.com/c/YesTheory/videos\",\n",
    "    \"https://www.youtube.com/c/ufc/videos\",\n",
    "    \"https://www.youtube.com/c/F1/videos\",\n",
    "]"
   ]
  },
  {
   "cell_type": "code",
   "execution_count": null,
   "id": "4f79558a-46e2-4df1-81be-eb01b5463ac1",
   "metadata": {},
   "outputs": [],
   "source": [
    "non_educational_videos = []\n",
    "for non_educational_channel in non_educational_channels:\n",
    "    c = Channel(non_educational_channel)\n",
    "    i = 0\n",
    "    for video in c.video_urls:\n",
    "        non_educational_videos.append(video)\n",
    "        i += 1\n",
    "        if i == 50:\n",
    "            break"
   ]
  },
  {
   "cell_type": "code",
   "execution_count": null,
   "id": "c373b682-ffea-43f3-99fb-c710548b38ff",
   "metadata": {},
   "outputs": [],
   "source": [
    "len(non_educational_videos)"
   ]
  },
  {
   "cell_type": "code",
   "execution_count": null,
   "id": "7ad11725-33f3-4a84-8893-e94d7071966b",
   "metadata": {},
   "outputs": [],
   "source": [
    "i = 0\n",
    "for video_url in non_educational_videos:\n",
    "    video = pafy.new(video_url)\n",
    "    category = video.category\n",
    "    if category == \"Education\":\n",
    "        continue\n",
    "    thumbnail_url = video.bigthumbhd\n",
    "    urllib.request.urlretrieve(thumbnail_url, os.path.join(\"Thumbnail Data\", \"Non Educational\", f\"NonEducational_{i}.jpg\"))\n",
    "    i += 1"
   ]
  },
  {
   "cell_type": "code",
   "execution_count": null,
   "id": "51bc8313-6cf5-4b51-a82c-ebbb1cfce1be",
   "metadata": {},
   "outputs": [],
   "source": []
  }
 ],
 "metadata": {
  "kernelspec": {
   "display_name": "Python 3.10.0 64-bit",
   "language": "python",
   "name": "python3"
  },
  "language_info": {
   "codemirror_mode": {
    "name": "ipython",
    "version": 3
   },
   "file_extension": ".py",
   "mimetype": "text/x-python",
   "name": "python",
   "nbconvert_exporter": "python",
   "pygments_lexer": "ipython3",
   "version": "3.10.0"
  },
  "vscode": {
   "interpreter": {
    "hash": "aee8b7b246df8f9039afb4144a1f6fd8d2ca17a180786b69acc140d282b71a49"
   }
  }
 },
 "nbformat": 4,
 "nbformat_minor": 5
}
