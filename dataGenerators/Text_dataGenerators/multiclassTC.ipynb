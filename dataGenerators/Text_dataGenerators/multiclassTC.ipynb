{
  "cells": [
    {
      "cell_type": "code",
      "source": [
        "!conda activate ~/tensorflow-work/env"
      ],
      "outputs": [
        {
          "output_type": "stream",
          "name": "stdout",
          "text": [
            "\r\n",
            "CommandNotFoundError: Your shell has not been properly configured to use 'conda activate'.\r\n",
            "To initialize your shell, run\r\n",
            "\r\n",
            "    $ conda init <SHELL_NAME>\r\n",
            "\r\n",
            "Currently supported shells are:\r\n",
            "  - bash\r\n",
            "  - fish\r\n",
            "  - tcsh\r\n",
            "  - xonsh\r\n",
            "  - zsh\r\n",
            "  - powershell\r\n",
            "\r\n",
            "See 'conda init --help' for more information and options.\r\n",
            "\r\n",
            "IMPORTANT: You may need to close and restart your shell after running 'conda init'.\r\n",
            "\r\n",
            "\r\n"
          ]
        }
      ],
      "execution_count": 2,
      "metadata": {
        "collapsed": true,
        "jupyter": {
          "source_hidden": false,
          "outputs_hidden": false
        },
        "nteract": {
          "transient": {
            "deleting": false
          }
        },
        "execution": {
          "iopub.status.busy": "2022-10-30T05:23:30.492Z",
          "iopub.execute_input": "2022-10-30T05:23:30.515Z",
          "iopub.status.idle": "2022-10-30T05:23:30.776Z",
          "shell.execute_reply": "2022-10-30T05:23:30.810Z"
        }
      },
      "id": "149f2132-f721-42e8-b74c-ff161eee9bb7"
    },
    {
      "cell_type": "code",
      "source": [
        "try:\n",
        "    import json\n",
        "    import os\n",
        "    \n",
        "    import pandas as  pd\n",
        "    import spacy\n",
        "    \n",
        "    import seaborn as sns\n",
        "    import string\n",
        "\n",
        "    from tqdm import tqdm\n",
        "    from textblob import TextBlob\n",
        "    \n",
        "    from nltk.corpus import stopwords\n",
        "    import nltk\n",
        "    from nltk.stem import WordNetLemmatizer\n",
        "    from nltk import word_tokenize\n",
        "    import re\n",
        "    \n",
        "    \n",
        "    from sklearn.model_selection import train_test_split\n",
        "    from sklearn.preprocessing import LabelEncoder\n",
        "    from sklearn.feature_extraction.text import CountVectorizer\n",
        "    from sklearn.feature_extraction.text import TfidfTransformer\n",
        "    from sklearn.naive_bayes import MultinomialNB\n",
        "    from sklearn.pipeline import Pipeline\n",
        "    \n",
        "    \n",
        "    from sklearn.preprocessing import FunctionTransformer\n",
        "    from sklearn.base import BaseEstimator, TransformerMixin\n",
        "    from sklearn.pipeline import FeatureUnion\n",
        "    from sklearn.feature_extraction import DictVectorizer\n",
        "    \n",
        "    import swifter\n",
        "    \n",
        "    tqdm.pandas()\n",
        "except Exception as e:\n",
        "    print(\"Error : {} \".format(e))"
      ],
      "outputs": [],
      "execution_count": 1,
      "metadata": {
        "execution": {
          "iopub.status.busy": "2022-11-04T15:13:56.761Z",
          "iopub.execute_input": "2022-11-04T15:13:56.779Z",
          "iopub.status.idle": "2022-11-04T15:14:00.712Z",
          "shell.execute_reply": "2022-11-04T15:14:00.755Z"
        }
      },
      "id": "b8556c05-12e2-48ef-bd47-873cc39f4da7"
    },
    {
      "cell_type": "code",
      "source": [
        "import nltk\n",
        "nltk.download('punkt')\n",
        "nltk.download('stopwords')\n",
        "nltk.download('wordnet')\n",
        "nltk.download('averaged_perceptron_tagger')"
      ],
      "outputs": [
        {
          "output_type": "stream",
          "name": "stderr",
          "text": [
            "[nltk_data] Downloading package punkt to\n",
            "[nltk_data]     /Users/harshulnanda/nltk_data...\n",
            "[nltk_data]   Package punkt is already up-to-date!\n",
            "[nltk_data] Downloading package stopwords to\n",
            "[nltk_data]     /Users/harshulnanda/nltk_data...\n",
            "[nltk_data]   Package stopwords is already up-to-date!\n",
            "[nltk_data] Downloading package wordnet to\n",
            "[nltk_data]     /Users/harshulnanda/nltk_data...\n",
            "[nltk_data]   Package wordnet is already up-to-date!\n",
            "[nltk_data] Downloading package averaged_perceptron_tagger to\n",
            "[nltk_data]     /Users/harshulnanda/nltk_data...\n",
            "[nltk_data]   Package averaged_perceptron_tagger is already up-to-\n",
            "[nltk_data]       date!\n"
          ]
        },
        {
          "output_type": "execute_result",
          "execution_count": 2,
          "data": {
            "text/plain": "True"
          },
          "metadata": {}
        }
      ],
      "execution_count": 2,
      "metadata": {
        "execution": {
          "iopub.status.busy": "2022-11-04T15:14:00.728Z",
          "iopub.execute_input": "2022-11-04T15:14:00.737Z",
          "iopub.status.idle": "2022-11-04T15:14:01.024Z",
          "shell.execute_reply": "2022-11-04T15:14:01.100Z"
        }
      },
      "id": "30ab96ec-a324-47c3-9e81-4fc371e9d8b8"
    },
    {
      "cell_type": "code",
      "source": [
        "df = pd.read_csv(\"educated.csv\", low_memory=False)\n",
        "df = df.astype(str)\n",
        "df = df.sample(frac=1).reset_index(drop=True)"
      ],
      "outputs": [],
      "execution_count": 3,
      "metadata": {
        "execution": {
          "iopub.status.busy": "2022-11-04T15:14:01.052Z",
          "iopub.execute_input": "2022-11-04T15:14:01.064Z",
          "iopub.status.idle": "2022-11-04T15:14:02.262Z",
          "shell.execute_reply": "2022-11-04T15:14:02.356Z"
        }
      },
      "id": "fe440370-ffe5-4fea-856f-14b409f4ba15"
    },
    {
      "cell_type": "code",
      "source": [
        "# df = df.loc[df[\"category\"] == \"Photography and Video\", [\"text\", \"sub_category\"]]"
      ],
      "outputs": [],
      "execution_count": 4,
      "metadata": {
        "collapsed": true,
        "jupyter": {
          "source_hidden": false,
          "outputs_hidden": false
        },
        "nteract": {
          "transient": {
            "deleting": false
          }
        },
        "execution": {
          "iopub.status.busy": "2022-11-04T15:14:02.278Z",
          "iopub.execute_input": "2022-11-04T15:14:02.289Z",
          "iopub.status.idle": "2022-11-04T15:14:02.316Z",
          "shell.execute_reply": "2022-11-04T15:14:02.361Z"
        }
      },
      "id": "a43d0f31-e2bb-4e05-9966-70631fa41ee9"
    },
    {
      "cell_type": "code",
      "source": [
        "df = df[[\"text\", \"category\"]]\n",
        "print(df.duplicated().sum())\n",
        "df.drop_duplicates(keep=\"first\", inplace=True)\n",
        "print(df.duplicated().sum())"
      ],
      "outputs": [
        {
          "output_type": "stream",
          "name": "stdout",
          "text": [
            "4107\n",
            "0\n"
          ]
        }
      ],
      "execution_count": 5,
      "metadata": {
        "collapsed": true,
        "jupyter": {
          "source_hidden": false,
          "outputs_hidden": false
        },
        "nteract": {
          "transient": {
            "deleting": false
          }
        },
        "execution": {
          "iopub.status.busy": "2022-11-04T15:14:02.333Z",
          "iopub.execute_input": "2022-11-04T15:14:02.345Z",
          "iopub.status.idle": "2022-11-04T15:14:03.406Z",
          "shell.execute_reply": "2022-11-04T15:14:03.430Z"
        }
      },
      "id": "a443dec4-d9c2-4759-8b86-d00c6d97fa32"
    },
    {
      "cell_type": "code",
      "source": [
        "print(df[\"text\"].duplicated().sum())\n",
        "df = df.drop_duplicates(subset=\"text\", keep=\"first\")\n",
        "print(df[\"text\"].duplicated().sum())"
      ],
      "outputs": [
        {
          "output_type": "stream",
          "name": "stdout",
          "text": [
            "109\n",
            "0\n"
          ]
        }
      ],
      "execution_count": 6,
      "metadata": {
        "collapsed": true,
        "jupyter": {
          "source_hidden": false,
          "outputs_hidden": false
        },
        "nteract": {
          "transient": {
            "deleting": false
          }
        },
        "execution": {
          "iopub.status.busy": "2022-11-04T15:14:03.575Z",
          "iopub.execute_input": "2022-11-04T15:14:03.586Z",
          "iopub.status.idle": "2022-11-04T15:14:03.924Z",
          "shell.execute_reply": "2022-11-04T15:14:03.980Z"
        }
      },
      "id": "4c60f458-1b71-4bac-8b0b-126e5b01fa35"
    },
    {
      "cell_type": "code",
      "source": [
        "# df.loc[df[\"sub_category\"] == \"Other Photography and Video Design\", \"sub_category\"] = \"Other Photography and Video\""
      ],
      "outputs": [],
      "execution_count": 7,
      "metadata": {
        "collapsed": true,
        "jupyter": {
          "source_hidden": false,
          "outputs_hidden": false
        },
        "nteract": {
          "transient": {
            "deleting": false
          }
        },
        "execution": {
          "iopub.status.busy": "2022-11-04T15:14:03.939Z",
          "iopub.execute_input": "2022-11-04T15:14:03.950Z",
          "iopub.status.idle": "2022-11-04T15:14:03.959Z",
          "shell.execute_reply": "2022-11-04T15:14:03.986Z"
        }
      },
      "id": "4562e40b-d3cf-4508-9d27-13baf433af52"
    },
    {
      "cell_type": "code",
      "source": [
        "print(df.isnull().sum())\n",
        "df = df.dropna()\n",
        "print(df.isnull().sum())"
      ],
      "outputs": [
        {
          "output_type": "stream",
          "name": "stdout",
          "text": [
            "text        0\n",
            "category    0\n",
            "dtype: int64\n",
            "text        0\n",
            "category    0\n",
            "dtype: int64\n"
          ]
        }
      ],
      "execution_count": 8,
      "metadata": {
        "collapsed": true,
        "jupyter": {
          "source_hidden": false,
          "outputs_hidden": false
        },
        "nteract": {
          "transient": {
            "deleting": false
          }
        },
        "execution": {
          "iopub.status.busy": "2022-11-04T15:14:04.095Z",
          "iopub.execute_input": "2022-11-04T15:14:04.101Z",
          "iopub.status.idle": "2022-11-04T15:14:04.113Z",
          "shell.execute_reply": "2022-11-04T15:14:04.136Z"
        }
      },
      "id": "0a549236-a6b3-4d66-baa5-0b68dce8a926"
    },
    {
      "cell_type": "code",
      "source": [
        "# df = df.head(25000)\n",
        "df['category'].value_counts().plot( kind='bar', figsize=(15,10))"
      ],
      "outputs": [
        {
          "output_type": "execute_result",
          "execution_count": 9,
          "data": {
            "text/plain": "<AxesSubplot:>"
          },
          "metadata": {}
        },
        {
          "output_type": "display_data",
          "data": {
            "text/plain": "<Figure size 1500x1000 with 1 Axes>",
            "image/png": "[encoded data removed]"
          },
          "metadata": {}
        }
      ],
      "execution_count": 9,
      "metadata": {
        "execution": {
          "iopub.status.busy": "2022-11-04T15:14:05.873Z",
          "iopub.execute_input": "2022-11-04T15:14:05.887Z",
          "iopub.status.idle": "2022-11-04T15:14:05.955Z",
          "shell.execute_reply": "2022-11-04T15:14:05.974Z"
        }
      },
      "id": "62b7d073-123c-467e-9c48-928f2724a729"
    },
    {
      "cell_type": "code",
      "source": [
        "df.shape"
      ],
      "outputs": [
        {
          "output_type": "execute_result",
          "execution_count": 10,
          "data": {
            "text/plain": "(111791, 2)"
          },
          "metadata": {}
        }
      ],
      "execution_count": 10,
      "metadata": {
        "execution": {
          "iopub.status.busy": "2022-11-04T15:14:07.467Z",
          "iopub.execute_input": "2022-11-04T15:14:07.475Z",
          "iopub.status.idle": "2022-11-04T15:14:07.488Z",
          "shell.execute_reply": "2022-11-04T15:14:07.493Z"
        }
      },
      "id": "983b1169-a03f-431a-b224-ec0bdd0d635b"
    },
    {
      "cell_type": "code",
      "source": [
        "df.columns"
      ],
      "outputs": [
        {
          "output_type": "execute_result",
          "execution_count": 11,
          "data": {
            "text/plain": "Index(['text', 'category'], dtype='object')"
          },
          "metadata": {}
        }
      ],
      "execution_count": 11,
      "metadata": {
        "execution": {
          "iopub.status.busy": "2022-11-04T15:14:08.037Z",
          "iopub.execute_input": "2022-11-04T15:14:08.059Z",
          "iopub.status.idle": "2022-11-04T15:14:08.073Z",
          "shell.execute_reply": "2022-11-04T15:14:08.078Z"
        }
      },
      "id": "d8038f3c-b132-4f0f-8b69-de44f6ed65bc"
    },
    {
      "cell_type": "code",
      "source": [
        "df.describe()"
      ],
      "outputs": [
        {
          "output_type": "execute_result",
          "execution_count": 12,
          "data": {
            "text/plain": "                                                     text   category\ncount                                              111791     111791\nunique                                             111791          2\ntop     React: Building a New UI - Live Coding with Je...  Education\nfreq                                                    1      70727",
            "text/html": "<div>\n<style scoped>\n    .dataframe tbody tr th:only-of-type {\n        vertical-align: middle;\n    }\n\n    .dataframe tbody tr th {\n        vertical-align: top;\n    }\n\n    .dataframe thead th {\n        text-align: right;\n    }\n</style>\n<table border=\"1\" class=\"dataframe\">\n  <thead>\n    <tr style=\"text-align: right;\">\n      <th></th>\n      <th>text</th>\n      <th>category</th>\n    </tr>\n  </thead>\n  <tbody>\n    <tr>\n      <th>count</th>\n      <td>111791</td>\n      <td>111791</td>\n    </tr>\n    <tr>\n      <th>unique</th>\n      <td>111791</td>\n      <td>2</td>\n    </tr>\n    <tr>\n      <th>top</th>\n      <td>React: Building a New UI - Live Coding with Je...</td>\n      <td>Education</td>\n    </tr>\n    <tr>\n      <th>freq</th>\n      <td>1</td>\n      <td>70727</td>\n    </tr>\n  </tbody>\n</table>\n</div>"
          },
          "metadata": {}
        }
      ],
      "execution_count": 12,
      "metadata": {
        "execution": {
          "iopub.status.busy": "2022-11-04T15:14:08.731Z",
          "iopub.execute_input": "2022-11-04T15:14:08.748Z",
          "iopub.status.idle": "2022-11-04T15:14:08.776Z",
          "shell.execute_reply": "2022-11-04T15:14:08.798Z"
        }
      },
      "id": "402f494d-b390-4c34-8a7f-dc282619506e"
    },
    {
      "cell_type": "code",
      "source": [
        "df.isnull().sum()"
      ],
      "outputs": [
        {
          "output_type": "execute_result",
          "execution_count": 13,
          "data": {
            "text/plain": "text        0\ncategory    0\ndtype: int64"
          },
          "metadata": {}
        }
      ],
      "execution_count": 13,
      "metadata": {
        "execution": {
          "iopub.status.busy": "2022-11-04T15:14:09.340Z",
          "iopub.execute_input": "2022-11-04T15:14:09.347Z",
          "iopub.status.idle": "2022-11-04T15:14:09.371Z",
          "shell.execute_reply": "2022-11-04T15:14:09.395Z"
        }
      },
      "id": "affc3e0a-2810-4d09-a73d-296fa8cec21a"
    },
    {
      "cell_type": "code",
      "source": [
        "df['category'].unique()"
      ],
      "outputs": [
        {
          "output_type": "execute_result",
          "execution_count": 14,
          "data": {
            "text/plain": "array(['Education', 'Non Education'], dtype=object)"
          },
          "metadata": {}
        }
      ],
      "execution_count": 14,
      "metadata": {
        "execution": {
          "iopub.status.busy": "2022-11-04T15:14:10.164Z",
          "iopub.execute_input": "2022-11-04T15:14:10.170Z",
          "iopub.status.idle": "2022-11-04T15:14:10.183Z",
          "shell.execute_reply": "2022-11-04T15:14:10.188Z"
        }
      },
      "id": "bc5111b6-0e6a-47bd-8b7e-9653ccbf473c"
    },
    {
      "cell_type": "code",
      "source": [
        "stop_words_ = set(stopwords.words('english'))\n",
        "wn = WordNetLemmatizer()\n",
        "my_sw = ['make', 'amp',  'news','new' ,'time', 'u','s', 'photos',  'get', 'say']\n",
        "\n",
        "def black_txt(token):\n",
        "    return  token not in stop_words_ and token not in list(string.punctuation)  and len(token)>2 and token not in my_sw\n",
        "  \n",
        "def clean_txt(text):\n",
        "    clean_text = []\n",
        "    clean_text2 = []\n",
        "    text = re.sub(\"'\", \"\",text)\n",
        "    text=re.sub(\"(\\\\d|\\\\W)+\",\" \",text)    \n",
        "    clean_text = [ wn.lemmatize(word, pos=\"v\") for word in word_tokenize(text.lower()) if black_txt(word)]\n",
        "    clean_text2 = [word for word in clean_text if black_txt(word)]\n",
        "    return \" \".join(clean_text2)"
      ],
      "outputs": [],
      "execution_count": 16,
      "metadata": {
        "execution": {
          "iopub.status.busy": "2022-11-04T15:14:20.810Z",
          "iopub.execute_input": "2022-11-04T15:14:20.825Z",
          "iopub.status.idle": "2022-11-04T15:14:20.848Z",
          "shell.execute_reply": "2022-11-04T15:14:20.861Z"
        }
      },
      "id": "5ff1ab3f-7395-4622-95af-ef39ef005124"
    },
    {
      "cell_type": "code",
      "source": [
        "def subj_txt(text):\n",
        "    return  TextBlob(text).sentiment[1]\n",
        "\n",
        "def polarity_txt(text):\n",
        "    return TextBlob(text).sentiment[0]\n",
        "\n",
        "def len_text(text):\n",
        "    if len(text.split())>0:\n",
        "         return len(set(clean_txt(text).split()))/ len(text.split())\n",
        "    else:\n",
        "         return 0"
      ],
      "outputs": [],
      "execution_count": 17,
      "metadata": {
        "execution": {
          "shell.execute_reply": "2022-11-04T15:14:21.884Z",
          "iopub.status.busy": "2022-11-04T15:14:21.848Z",
          "iopub.execute_input": "2022-11-04T15:14:21.862Z",
          "iopub.status.idle": "2022-11-04T15:14:21.876Z"
        }
      },
      "id": "5bf3107a-9fc1-4003-8484-8250d3bebb7a"
    },
    {
      "cell_type": "code",
      "source": [
        "df['text'] = df['text'].swifter.apply(clean_txt)\n",
        "df['polarity'] = df['text'].swifter.apply(polarity_txt)\n",
        "df['subjectivity'] = df['text'].swifter.apply(subj_txt)\n",
        "df['len'] = df['text'].swifter.apply(lambda x: len(x))"
      ],
      "outputs": [
        {
          "output_type": "display_data",
          "data": {
            "text/plain": "Pandas Apply:   0%|          | 0/111791 [00:00<?, ?it/s]",
            "application/vnd.jupyter.widget-view+json": {
              "version_major": 2,
              "version_minor": 0,
              "model_id": "389f2722a8b54f039f7b48dec29c2cb9"
            },
            "application/json": {
              "n": 0,
              "total": 111791,
              "elapsed": 0.011245012283325195,
              "ncols": null,
              "nrows": null,
              "prefix": "Pandas Apply",
              "ascii": false,
              "unit": "it",
              "unit_scale": false,
              "rate": null,
              "bar_format": null,
              "postfix": null,
              "unit_divisor": 1000,
              "initial": 0,
              "colour": null
            }
          },
          "metadata": {}
        },
        {
          "output_type": "display_data",
          "data": {
            "text/plain": "Pandas Apply:   0%|          | 0/111791 [00:00<?, ?it/s]",
            "application/vnd.jupyter.widget-view+json": {
              "version_major": 2,
              "version_minor": 0,
              "model_id": "ff1b36614907415f848ae642fe030ce7"
            },
            "application/json": {
              "n": 0,
              "total": 111791,
              "elapsed": 0.007238864898681641,
              "ncols": null,
              "nrows": null,
              "prefix": "Pandas Apply",
              "ascii": false,
              "unit": "it",
              "unit_scale": false,
              "rate": null,
              "bar_format": null,
              "postfix": null,
              "unit_divisor": 1000,
              "initial": 0,
              "colour": null
            }
          },
          "metadata": {}
        },
        {
          "output_type": "display_data",
          "data": {
            "text/plain": "Pandas Apply:   0%|          | 0/111791 [00:00<?, ?it/s]",
            "application/vnd.jupyter.widget-view+json": {
              "version_major": 2,
              "version_minor": 0,
              "model_id": "486e769caa5041b0a0e690415ee6db73"
            },
            "application/json": {
              "n": 0,
              "total": 111791,
              "elapsed": 0.007297992706298828,
              "ncols": null,
              "nrows": null,
              "prefix": "Pandas Apply",
              "ascii": false,
              "unit": "it",
              "unit_scale": false,
              "rate": null,
              "bar_format": null,
              "postfix": null,
              "unit_divisor": 1000,
              "initial": 0,
              "colour": null
            }
          },
          "metadata": {}
        },
        {
          "output_type": "display_data",
          "data": {
            "text/plain": "Pandas Apply:   0%|          | 0/111791 [00:00<?, ?it/s]",
            "application/vnd.jupyter.widget-view+json": {
              "version_major": 2,
              "version_minor": 0,
              "model_id": "d11d86d97fe343d182310169ab8c5c56"
            },
            "application/json": {
              "n": 0,
              "total": 111791,
              "elapsed": 0.007303953170776367,
              "ncols": null,
              "nrows": null,
              "prefix": "Pandas Apply",
              "ascii": false,
              "unit": "it",
              "unit_scale": false,
              "rate": null,
              "bar_format": null,
              "postfix": null,
              "unit_divisor": 1000,
              "initial": 0,
              "colour": null
            }
          },
          "metadata": {}
        }
      ],
      "execution_count": 18,
      "metadata": {
        "execution": {
          "iopub.status.busy": "2022-11-04T15:14:23.308Z",
          "iopub.execute_input": "2022-11-04T15:14:23.317Z",
          "iopub.status.idle": "2022-11-04T15:16:48.276Z",
          "shell.execute_reply": "2022-11-04T15:16:48.590Z"
        }
      },
      "id": "2b184e10-6791-4fec-be2a-72ee93b5ed74"
    },
    {
      "cell_type": "code",
      "source": [
        "X = df[['text', 'polarity', 'subjectivity','len']]\n",
        "y = df['category']\n",
        "\n",
        "encoder = LabelEncoder()\n",
        "y = encoder.fit_transform(y)\n",
        "\n",
        "x_train, x_test, y_train, y_test = train_test_split(X, y, test_size=0.1, stratify=y)\n",
        "v = dict(zip(list(y), df['category'].to_list()))"
      ],
      "outputs": [],
      "execution_count": 100,
      "metadata": {
        "execution": {
          "iopub.status.busy": "2022-11-04T09:12:23.020Z",
          "iopub.execute_input": "2022-11-04T09:12:23.026Z",
          "iopub.status.idle": "2022-11-04T09:12:23.040Z",
          "shell.execute_reply": "2022-11-04T09:12:23.144Z"
        }
      },
      "id": "12eff34b-7716-477d-a2a9-7598cf9b15aa"
    },
    {
      "cell_type": "code",
      "source": [
        "# x_train = x_train.sample(frac=1)"
      ],
      "outputs": [],
      "execution_count": 101,
      "metadata": {
        "collapsed": true,
        "jupyter": {
          "source_hidden": false,
          "outputs_hidden": false
        },
        "nteract": {
          "transient": {
            "deleting": false
          }
        },
        "execution": {
          "iopub.status.busy": "2022-11-04T09:12:23.052Z",
          "iopub.execute_input": "2022-11-04T09:12:23.058Z",
          "iopub.status.idle": "2022-11-04T09:12:23.067Z",
          "shell.execute_reply": "2022-11-04T09:12:23.150Z"
        }
      },
      "id": "0b8938a8-6c8d-4dc9-8cce-d6a1655e0c1f"
    },
    {
      "cell_type": "code",
      "source": [
        "# text_clf = Pipeline([\n",
        "#     ('vect', CountVectorizer(analyzer=\"word\", stop_words=\"english\")),\n",
        "#     ('tfidf', TfidfTransformer(use_idf=True)),\n",
        "#     ('clf', MultinomialNB(alpha=.01)),\n",
        "# ])\n",
        "\n",
        "# text_clf = Pipeline([\n",
        "#     ('vect', TfidfVectorizer(min_df= 3, stop_words=\"english\", sublinear_tf=True, norm='l2', ngram_range=(1, 2))),\n",
        "#     ('chi',  SelectKBest(chi2, k=1200)),\n",
        "#     ('clf', RandomForestClassifier())\n",
        "# ])\n",
        "\n",
        "text_clf = Pipeline([\n",
        "    ('vect', CountVectorizer(analyzer=\"word\", stop_words=\"english\")),\n",
        "    ('tfidf', TfidfTransformer(use_idf=True)),\n",
        "    ('chi',  SelectKBest(chi2, k=1200)),\n",
        "    ('clf', RandomForestClassifier())\n",
        "])"
      ],
      "outputs": [],
      "execution_count": 102,
      "metadata": {
        "execution": {
          "iopub.status.busy": "2022-11-04T09:12:23.076Z",
          "iopub.execute_input": "2022-11-04T09:12:23.083Z",
          "iopub.status.idle": "2022-11-04T09:12:23.092Z",
          "shell.execute_reply": "2022-11-04T09:12:23.189Z"
        }
      },
      "id": "76e15ed0-8b32-42ae-adfd-bb28ea781507"
    },
    {
      "cell_type": "code",
      "source": [
        "text_clf.fit(x_train['text'].to_list(), list(y_train))"
      ],
      "outputs": [
        {
          "output_type": "execute_result",
          "execution_count": 103,
          "data": {
            "text/plain": "Pipeline(steps=[('vect', CountVectorizer(stop_words='english')),\n                ('tfidf', TfidfTransformer()),\n                ('chi',\n                 SelectKBest(k=1200,\n                             score_func=<function chi2 at 0x2c02c1fc0>)),\n                ('clf', RandomForestClassifier())])",
            "text/html": "<style>#sk-container-id-3 {color: black;background-color: white;}#sk-container-id-3 pre{padding: 0;}#sk-container-id-3 div.sk-toggleable {background-color: white;}#sk-container-id-3 label.sk-toggleable__label {cursor: pointer;display: block;width: 100%;margin-bottom: 0;padding: 0.3em;box-sizing: border-box;text-align: center;}#sk-container-id-3 label.sk-toggleable__label-arrow:before {content: \"▸\";float: left;margin-right: 0.25em;color: #696969;}#sk-container-id-3 label.sk-toggleable__label-arrow:hover:before {color: black;}#sk-container-id-3 div.sk-estimator:hover label.sk-toggleable__label-arrow:before {color: black;}#sk-container-id-3 div.sk-toggleable__content {max-height: 0;max-width: 0;overflow: hidden;text-align: left;background-color: #f0f8ff;}#sk-container-id-3 div.sk-toggleable__content pre {margin: 0.2em;color: black;border-radius: 0.25em;background-color: #f0f8ff;}#sk-container-id-3 input.sk-toggleable__control:checked~div.sk-toggleable__content {max-height: 200px;max-width: 100%;overflow: auto;}#sk-container-id-3 input.sk-toggleable__control:checked~label.sk-toggleable__label-arrow:before {content: \"▾\";}#sk-container-id-3 div.sk-estimator input.sk-toggleable__control:checked~label.sk-toggleable__label {background-color: #d4ebff;}#sk-container-id-3 div.sk-label input.sk-toggleable__control:checked~label.sk-toggleable__label {background-color: #d4ebff;}#sk-container-id-3 input.sk-hidden--visually {border: 0;clip: rect(1px 1px 1px 1px);clip: rect(1px, 1px, 1px, 1px);height: 1px;margin: -1px;overflow: hidden;padding: 0;position: absolute;width: 1px;}#sk-container-id-3 div.sk-estimator {font-family: monospace;background-color: #f0f8ff;border: 1px dotted black;border-radius: 0.25em;box-sizing: border-box;margin-bottom: 0.5em;}#sk-container-id-3 div.sk-estimator:hover {background-color: #d4ebff;}#sk-container-id-3 div.sk-parallel-item::after {content: \"\";width: 100%;border-bottom: 1px solid gray;flex-grow: 1;}#sk-container-id-3 div.sk-label:hover label.sk-toggleable__label {background-color: #d4ebff;}#sk-container-id-3 div.sk-serial::before {content: \"\";position: absolute;border-left: 1px solid gray;box-sizing: border-box;top: 0;bottom: 0;left: 50%;z-index: 0;}#sk-container-id-3 div.sk-serial {display: flex;flex-direction: column;align-items: center;background-color: white;padding-right: 0.2em;padding-left: 0.2em;position: relative;}#sk-container-id-3 div.sk-item {position: relative;z-index: 1;}#sk-container-id-3 div.sk-parallel {display: flex;align-items: stretch;justify-content: center;background-color: white;position: relative;}#sk-container-id-3 div.sk-item::before, #sk-container-id-3 div.sk-parallel-item::before {content: \"\";position: absolute;border-left: 1px solid gray;box-sizing: border-box;top: 0;bottom: 0;left: 50%;z-index: -1;}#sk-container-id-3 div.sk-parallel-item {display: flex;flex-direction: column;z-index: 1;position: relative;background-color: white;}#sk-container-id-3 div.sk-parallel-item:first-child::after {align-self: flex-end;width: 50%;}#sk-container-id-3 div.sk-parallel-item:last-child::after {align-self: flex-start;width: 50%;}#sk-container-id-3 div.sk-parallel-item:only-child::after {width: 0;}#sk-container-id-3 div.sk-dashed-wrapped {border: 1px dashed gray;margin: 0 0.4em 0.5em 0.4em;box-sizing: border-box;padding-bottom: 0.4em;background-color: white;}#sk-container-id-3 div.sk-label label {font-family: monospace;font-weight: bold;display: inline-block;line-height: 1.2em;}#sk-container-id-3 div.sk-label-container {text-align: center;}#sk-container-id-3 div.sk-container {/* jupyter's `normalize.less` sets `[hidden] { display: none; }` but bootstrap.min.css set `[hidden] { display: none !important; }` so we also need the `!important` here to be able to override the default hidden behavior on the sphinx rendered scikit-learn.org. See: https://github.com/scikit-learn/scikit-learn/issues/21755 */display: inline-block !important;position: relative;}#sk-container-id-3 div.sk-text-repr-fallback {display: none;}</style><div id=\"sk-container-id-3\" class=\"sk-top-container\"><div class=\"sk-text-repr-fallback\"><pre>Pipeline(steps=[(&#x27;vect&#x27;, CountVectorizer(stop_words=&#x27;english&#x27;)),\n                (&#x27;tfidf&#x27;, TfidfTransformer()),\n                (&#x27;chi&#x27;,\n                 SelectKBest(k=1200,\n                             score_func=&lt;function chi2 at 0x2c02c1fc0&gt;)),\n                (&#x27;clf&#x27;, RandomForestClassifier())])</pre><b>In a Jupyter environment, please rerun this cell to show the HTML representation or trust the notebook. <br />On GitHub, the HTML representation is unable to render, please try loading this page with nbviewer.org.</b></div><div class=\"sk-container\" hidden><div class=\"sk-item sk-dashed-wrapped\"><div class=\"sk-label-container\"><div class=\"sk-label sk-toggleable\"><input class=\"sk-toggleable__control sk-hidden--visually\" id=\"sk-estimator-id-11\" type=\"checkbox\" ><label for=\"sk-estimator-id-11\" class=\"sk-toggleable__label sk-toggleable__label-arrow\">Pipeline</label><div class=\"sk-toggleable__content\"><pre>Pipeline(steps=[(&#x27;vect&#x27;, CountVectorizer(stop_words=&#x27;english&#x27;)),\n                (&#x27;tfidf&#x27;, TfidfTransformer()),\n                (&#x27;chi&#x27;,\n                 SelectKBest(k=1200,\n                             score_func=&lt;function chi2 at 0x2c02c1fc0&gt;)),\n                (&#x27;clf&#x27;, RandomForestClassifier())])</pre></div></div></div><div class=\"sk-serial\"><div class=\"sk-item\"><div class=\"sk-estimator sk-toggleable\"><input class=\"sk-toggleable__control sk-hidden--visually\" id=\"sk-estimator-id-12\" type=\"checkbox\" ><label for=\"sk-estimator-id-12\" class=\"sk-toggleable__label sk-toggleable__label-arrow\">CountVectorizer</label><div class=\"sk-toggleable__content\"><pre>CountVectorizer(stop_words=&#x27;english&#x27;)</pre></div></div></div><div class=\"sk-item\"><div class=\"sk-estimator sk-toggleable\"><input class=\"sk-toggleable__control sk-hidden--visually\" id=\"sk-estimator-id-13\" type=\"checkbox\" ><label for=\"sk-estimator-id-13\" class=\"sk-toggleable__label sk-toggleable__label-arrow\">TfidfTransformer</label><div class=\"sk-toggleable__content\"><pre>TfidfTransformer()</pre></div></div></div><div class=\"sk-item\"><div class=\"sk-estimator sk-toggleable\"><input class=\"sk-toggleable__control sk-hidden--visually\" id=\"sk-estimator-id-14\" type=\"checkbox\" ><label for=\"sk-estimator-id-14\" class=\"sk-toggleable__label sk-toggleable__label-arrow\">SelectKBest</label><div class=\"sk-toggleable__content\"><pre>SelectKBest(k=1200, score_func=&lt;function chi2 at 0x2c02c1fc0&gt;)</pre></div></div></div><div class=\"sk-item\"><div class=\"sk-estimator sk-toggleable\"><input class=\"sk-toggleable__control sk-hidden--visually\" id=\"sk-estimator-id-15\" type=\"checkbox\" ><label for=\"sk-estimator-id-15\" class=\"sk-toggleable__label sk-toggleable__label-arrow\">RandomForestClassifier</label><div class=\"sk-toggleable__content\"><pre>RandomForestClassifier()</pre></div></div></div></div></div></div></div>"
          },
          "metadata": {}
        }
      ],
      "execution_count": 103,
      "metadata": {
        "execution": {
          "iopub.status.busy": "2022-11-04T09:12:23.101Z",
          "iopub.execute_input": "2022-11-04T09:12:23.107Z",
          "iopub.status.idle": "2022-11-04T09:13:12.449Z",
          "shell.execute_reply": "2022-11-04T09:13:12.907Z"
        }
      },
      "id": "2e25fdde-8ac0-44cc-99ec-c33b860e4cd8"
    },
    {
      "cell_type": "code",
      "source": [
        "import numpy as np"
      ],
      "outputs": [],
      "execution_count": 104,
      "metadata": {
        "execution": {
          "iopub.status.busy": "2022-11-04T09:14:25.868Z",
          "iopub.execute_input": "2022-11-04T09:14:25.876Z",
          "iopub.status.idle": "2022-11-04T09:14:25.887Z",
          "shell.execute_reply": "2022-11-04T09:14:25.893Z"
        }
      },
      "id": "f72d4f00-9d6e-45f9-8a55-5b9ea85865c3"
    },
    {
      "cell_type": "code",
      "source": [
        "X_TEST = x_test['text'].to_list()\n",
        "Y_TEST = list(y_test)"
      ],
      "outputs": [],
      "execution_count": 105,
      "metadata": {
        "execution": {
          "iopub.status.busy": "2022-11-04T09:14:26.654Z",
          "iopub.execute_input": "2022-11-04T09:14:26.661Z",
          "iopub.status.idle": "2022-11-04T09:14:26.672Z",
          "shell.execute_reply": "2022-11-04T09:14:26.678Z"
        }
      },
      "id": "d30f661c-c5cb-40ea-b869-4d491e4a2253"
    },
    {
      "cell_type": "code",
      "source": [
        "predicted = text_clf.predict(X_TEST)"
      ],
      "outputs": [],
      "execution_count": 106,
      "metadata": {
        "execution": {
          "iopub.status.busy": "2022-11-04T09:14:27.231Z",
          "iopub.execute_input": "2022-11-04T09:14:27.257Z",
          "iopub.status.idle": "2022-11-04T09:14:28.014Z",
          "shell.execute_reply": "2022-11-04T09:14:28.020Z"
        }
      },
      "id": "317a4985-a402-4b2e-87c9-48aa26f9435b"
    },
    {
      "cell_type": "code",
      "source": [
        "c = 0\n",
        "\n",
        "for dec, category in zip(X_TEST, predicted):\n",
        "    \n",
        "    if c == 2:break\n",
        "    \n",
        "    print(\"-\"*55)\n",
        "    print(dec)\n",
        "    print(v[category])\n",
        "    print(\"-\"*55)\n",
        "\n",
        "    c = c + 1 "
      ],
      "outputs": [
        {
          "output_type": "stream",
          "name": "stdout",
          "text": [
            "-------------------------------------------------------\n",
            "blackpink shut cardio dance cardio workout cardio cardiodance cardioworkout kpop shutdown blackpink golfy dance fitness\n",
            "Education\n",
            "-------------------------------------------------------\n",
            "-------------------------------------------------------\n",
            "carly rae jepsen talk official lyric video listen talk https carlyrraejepsen lnk talkingtoyourself listen loneliest time https carlyraejepsen lnk theloneliesttime watch official visual talk https carlyraejepsen lnk talkingtoyourselfvisual follow carly rae jepsen instagram https carlyraejepsen lnk instagram twitter https carlyraejepsen lnk twitter tiktok https carlyraejepsen lnk tiktok facebook https carlyraejepsen lnk facebook youtube https carlyraejepsen lnk youtube always invisible consequences difficult face could something beautiful make impossible stay tell get mind get mind get mind keep night keep night never let think somebody else talk talk reach make love someone else talk talk self talk talk talk never miserable without take way hit subliminal one take blame tell get mind get mind get mind keep night keep night never let think somebody else talk talk reach make love someone else talk talk self talk talk talk think kill think think somebody else talk talk reach make love someone else talk talk self talk talk talk talk talk talk carlyraejepsen talkingtoyourself theloneliesttime music video carly rae jepsen perform talk lyric video schoolboy interscope record record canada schoolboy interscope record record canada http vevo gxkbi\n",
            "Non Education\n",
            "-------------------------------------------------------\n"
          ]
        }
      ],
      "execution_count": 107,
      "metadata": {
        "execution": {
          "iopub.status.busy": "2022-11-04T09:14:28.073Z",
          "iopub.execute_input": "2022-11-04T09:14:28.079Z",
          "iopub.status.idle": "2022-11-04T09:14:28.099Z",
          "shell.execute_reply": "2022-11-04T09:14:28.105Z"
        }
      },
      "id": "00e98e97-436d-4437-a125-95b0d9f8e98f"
    },
    {
      "cell_type": "code",
      "source": [
        "np.mean(predicted == Y_TEST)"
      ],
      "outputs": [
        {
          "output_type": "execute_result",
          "execution_count": 108,
          "data": {
            "text/plain": "0.9628801431127012"
          },
          "metadata": {}
        }
      ],
      "execution_count": 108,
      "metadata": {
        "execution": {
          "iopub.status.busy": "2022-11-04T09:14:40.685Z",
          "iopub.execute_input": "2022-11-04T09:14:40.692Z",
          "iopub.status.idle": "2022-11-04T09:14:40.769Z",
          "shell.execute_reply": "2022-11-04T09:14:40.775Z"
        }
      },
      "id": "9ffd1ad5-6776-4614-ba5f-aafd496eb099"
    },
    {
      "cell_type": "code",
      "source": [
        "title_plus_des = [\"\"\"\n",
        "Say yes to healthy living with CureFit!\n",
        "\n",
        "Download the Cultfit app to access more such content - https://bit.ly/30pXU5L\n",
        "\n",
        "0:00 Intro\n",
        "1:08 1 - Jumping Jacks\n",
        "2:14 2 - Mountain Climbers\n",
        "3:31- 3 - Elbow Plank\n",
        "4:47 4 - Flutter Kicks\n",
        "5:56 5 - High Knees\n",
        "7:01 6 - Russian Twists\n",
        "8:23 7 - Leg Tuck Ins\n",
        "9:35 Download cure.fit app\n",
        "10:04 8 - Bicycle Crunches\n",
        "12:15 Subscribe and show some love\n",
        "\n",
        "Follow Suvini on Instagram:- https://www.instagram.com/suvini.mehra/\n",
        "\n",
        "Check out our Fat Loss Workouts playlist by Cult Fit: https://www.youtube.com/watch?v=yx2kR...\n",
        "\n",
        "Subscribe to CureFit channel now: https://www.youtube.com/c/CureFit?sub...\n",
        "\n",
        "We make group workouts fun, daily food healthy & tasty, mental fitness easy with yoga & meditation, and medical & lifestyle care hassle-free. #BeBetterEveryDay #Bellyworkout #CureFit\n",
        "\n",
        "\"\"\"]\n",
        "predicted = text_clf.predict(title_plus_des)\n",
        "v, v[predicted[0]]"
      ],
      "outputs": [
        {
          "output_type": "execute_result",
          "execution_count": 109,
          "data": {
            "text/plain": "({0: 'Education', 1: 'Non Education'}, 'Education')"
          },
          "metadata": {}
        }
      ],
      "execution_count": 109,
      "metadata": {
        "execution": {
          "iopub.status.busy": "2022-11-04T09:14:43.080Z",
          "iopub.execute_input": "2022-11-04T09:14:43.089Z",
          "iopub.status.idle": "2022-11-04T09:14:43.104Z",
          "shell.execute_reply": "2022-11-04T09:14:43.121Z"
        }
      },
      "id": "97414f58-9ba1-44eb-9b5c-839b9a57a31f"
    },
    {
      "cell_type": "code",
      "source": [
        "import pickle\n",
        "with open('models/educated_model.pkl','wb') as f:\n",
        "    pickle.dump(text_clf,f)"
      ],
      "outputs": [],
      "execution_count": 110,
      "metadata": {
        "execution": {
          "iopub.status.busy": "2022-11-04T09:14:44.156Z",
          "iopub.execute_input": "2022-11-04T09:14:44.165Z",
          "iopub.status.idle": "2022-11-04T09:14:44.350Z",
          "shell.execute_reply": "2022-11-04T09:14:44.361Z"
        }
      },
      "id": "687db936-8dec-407c-b676-d67fa3649fa3"
    },
    {
      "cell_type": "code",
      "source": [
        "import pickle\n",
        "with open('models/educated_model.pkl', 'rb') as f:\n",
        "    clf2 = pickle.load(f)"
      ],
      "outputs": [],
      "execution_count": 111,
      "metadata": {
        "tags": [],
        "execution": {
          "iopub.status.busy": "2022-11-04T09:14:46.546Z",
          "iopub.execute_input": "2022-11-04T09:14:46.561Z",
          "shell.execute_reply": "2022-11-04T09:14:46.621Z",
          "iopub.status.idle": "2022-11-04T09:14:46.615Z"
        }
      },
      "id": "4462f0ed-7c36-409d-846f-79c9b7874c47"
    },
    {
      "cell_type": "code",
      "source": [
        "des = ['''\n",
        "intense workout, stay fit and healthy''']\n",
        "predicted = clf2.predict_proba(des)"
      ],
      "outputs": [],
      "execution_count": 115,
      "metadata": {
        "execution": {
          "iopub.status.busy": "2022-11-04T09:15:01.098Z",
          "iopub.execute_input": "2022-11-04T09:15:01.106Z",
          "iopub.status.idle": "2022-11-04T09:15:01.117Z",
          "shell.execute_reply": "2022-11-04T09:15:01.130Z"
        }
      },
      "id": "c7a8fa8c-511c-43e4-a46e-cff51a1eb1de"
    },
    {
      "cell_type": "code",
      "source": [
        "print(predicted[0])\n",
        "max(predicted[0])"
      ],
      "outputs": [
        {
          "output_type": "stream",
          "name": "stdout",
          "text": [
            "[0.94 0.06]\n"
          ]
        },
        {
          "output_type": "execute_result",
          "execution_count": 116,
          "data": {
            "text/plain": "0.94"
          },
          "metadata": {}
        }
      ],
      "execution_count": 116,
      "metadata": {
        "execution": {
          "iopub.status.busy": "2022-11-04T09:15:01.888Z",
          "iopub.execute_input": "2022-11-04T09:15:01.897Z",
          "iopub.status.idle": "2022-11-04T09:15:01.917Z",
          "shell.execute_reply": "2022-11-04T09:15:01.923Z"
        }
      },
      "id": "5fc1927e-1912-471f-8134-cb957fc1725b"
    },
    {
      "cell_type": "code",
      "source": [
        "v[clf2.predict(des)[0]]"
      ],
      "outputs": [
        {
          "output_type": "execute_result",
          "execution_count": 117,
          "data": {
            "text/plain": "'Education'"
          },
          "metadata": {}
        }
      ],
      "execution_count": 117,
      "metadata": {
        "execution": {
          "iopub.status.busy": "2022-11-04T09:15:04.926Z",
          "iopub.execute_input": "2022-11-04T09:15:04.935Z",
          "iopub.status.idle": "2022-11-04T09:15:05.011Z",
          "shell.execute_reply": "2022-11-04T09:15:05.059Z"
        }
      },
      "id": "6926dd88-b377-442d-a643-7d7dd09c472b"
    },
    {
      "cell_type": "markdown",
      "source": [
        "# New Model"
      ],
      "metadata": {
        "nteract": {
          "transient": {
            "deleting": false
          }
        }
      },
      "id": "0f2e3b81-fa73-40c0-b124-520690e616cd"
    },
    {
      "cell_type": "code",
      "source": [
        "import pandas as pd\n",
        "import re\n",
        "import numpy as np\n",
        "import matplotlib.pyplot as plt\n",
        "from nltk.corpus import stopwords\n",
        "from nltk.stem import PorterStemmer\n",
        "from sklearn.feature_extraction.text import TfidfVectorizer\n",
        "from sklearn.pipeline import Pipeline\n",
        "from sklearn.metrics import classification_report, confusion_matrix\n",
        "from sklearn.model_selection import train_test_split\n",
        "from sklearn.feature_selection import SelectKBest, chi2\n",
        "from sklearn.ensemble import RandomForestClassifier\n",
        "import sqlite3\n",
        "import pickle\n",
        "import nltk\n",
        "nltk.download('stopwords')\n",
        "%matplotlib inline"
      ],
      "outputs": [
        {
          "output_type": "stream",
          "name": "stderr",
          "text": [
            "[nltk_data] Downloading package stopwords to\n",
            "[nltk_data]     /Users/harshulnanda/nltk_data...\n",
            "[nltk_data]   Package stopwords is already up-to-date!\n"
          ]
        }
      ],
      "execution_count": 23,
      "metadata": {
        "collapsed": true,
        "jupyter": {
          "source_hidden": false,
          "outputs_hidden": false
        },
        "nteract": {
          "transient": {
            "deleting": false
          }
        },
        "execution": {
          "iopub.status.busy": "2022-11-04T08:42:52.861Z",
          "iopub.execute_input": "2022-11-04T08:42:52.870Z",
          "iopub.status.idle": "2022-11-04T08:42:52.928Z",
          "shell.execute_reply": "2022-11-04T08:42:52.943Z"
        }
      },
      "id": "d0eae043-5185-4fd5-8a3c-8e788050a5e8"
    },
    {
      "cell_type": "code",
      "source": [
        "df = pd.read_csv(\"END_OF_EDU_AND_NON_EDU.csv\", low_memory=False)\n",
        "df = df.astype(str)\n",
        "df = df.sample(frac=1).reset_index(drop=True)"
      ],
      "outputs": [],
      "execution_count": 3,
      "metadata": {
        "collapsed": true,
        "jupyter": {
          "source_hidden": false,
          "outputs_hidden": false
        },
        "nteract": {
          "transient": {
            "deleting": false
          }
        },
        "execution": {
          "iopub.status.busy": "2022-10-29T12:06:07.088Z",
          "iopub.execute_input": "2022-10-29T12:06:07.102Z",
          "iopub.status.idle": "2022-10-29T12:06:08.114Z",
          "shell.execute_reply": "2022-10-29T12:06:08.119Z"
        }
      },
      "id": "20f2cdde-cf90-4633-a1f5-086a66bc5d08"
    },
    {
      "cell_type": "code",
      "source": [
        "df.groupby('category').text.count().plot.bar(ylim=0)\n",
        "plt.show()"
      ],
      "outputs": [
        {
          "output_type": "display_data",
          "data": {
            "text/plain": "<Figure size 640x480 with 1 Axes>",
            "image/png": "[encoded data removed]"
          },
          "metadata": {}
        }
      ],
      "execution_count": 5,
      "metadata": {
        "collapsed": true,
        "jupyter": {
          "source_hidden": false,
          "outputs_hidden": false
        },
        "nteract": {
          "transient": {
            "deleting": false
          }
        },
        "execution": {
          "iopub.status.busy": "2022-10-29T12:06:20.723Z",
          "iopub.execute_input": "2022-10-29T12:06:20.735Z",
          "iopub.status.idle": "2022-10-29T12:06:20.776Z",
          "shell.execute_reply": "2022-10-29T12:06:20.800Z"
        }
      },
      "id": "f21dc720-e2e1-4260-aa7f-48060f96297f"
    },
    {
      "cell_type": "code",
      "source": [
        "nltk.download('stopwords')\n",
        "stemmer = PorterStemmer()\n",
        "words = stopwords.words(\"english\")\n",
        "df['cleaned'] = df['text'].apply(lambda x: \" \".join([stemmer.stem(i) for i in re.sub(\"[^a-zA-Z]\", \" \", x).split() if i not in words]).lower())"
      ],
      "outputs": [
        {
          "output_type": "stream",
          "name": "stderr",
          "text": [
            "[nltk_data] Downloading package stopwords to\n",
            "[nltk_data]     /Users/harshulnanda/nltk_data...\n",
            "[nltk_data]   Package stopwords is already up-to-date!\n"
          ]
        }
      ],
      "execution_count": 7,
      "metadata": {
        "collapsed": true,
        "jupyter": {
          "source_hidden": false,
          "outputs_hidden": false
        },
        "nteract": {
          "transient": {
            "deleting": false
          }
        },
        "execution": {
          "iopub.status.busy": "2022-10-29T12:07:09.968Z",
          "iopub.execute_input": "2022-10-29T12:07:09.975Z",
          "iopub.status.idle": "2022-10-29T12:09:42.614Z",
          "shell.execute_reply": "2022-10-29T12:09:42.668Z"
        }
      },
      "id": "a2d1042d-4479-4c9a-b79b-f30e71b3c9cb"
    },
    {
      "cell_type": "code",
      "source": [
        "df.head()"
      ],
      "outputs": [
        {
          "output_type": "execute_result",
          "execution_count": 8,
          "data": {
            "text/plain": "  Unnamed: 0                                               text  \\\n0      15118  How To Draw A Shark | Draw with Blippi | Arts ...   \n1       3717  BLACK ADAM - Official Trailer Dwayne ‘The Rock...   \n2      15429                                              girl    \n3      73054  Hands-On Unity 2018.x Game Development for Mob...   \n4      96020  Mobile AppSec from an attacker's perspective -...   \n\n        category                                            cleaned  \n0  Non Education  how to draw a shark draw blippi art craft for ...  \n1  Non Education  black adam offici trailer dwayn the rock johns...  \n2  Non Education                                               girl  \n3      Education  hand on uniti x game develop mobil load asset ...  \n4      Education  mobil appsec attack perspect abhisek datta app...  ",
            "text/html": "<div>\n<style scoped>\n    .dataframe tbody tr th:only-of-type {\n        vertical-align: middle;\n    }\n\n    .dataframe tbody tr th {\n        vertical-align: top;\n    }\n\n    .dataframe thead th {\n        text-align: right;\n    }\n</style>\n<table border=\"1\" class=\"dataframe\">\n  <thead>\n    <tr style=\"text-align: right;\">\n      <th></th>\n      <th>Unnamed: 0</th>\n      <th>text</th>\n      <th>category</th>\n      <th>cleaned</th>\n    </tr>\n  </thead>\n  <tbody>\n    <tr>\n      <th>0</th>\n      <td>15118</td>\n      <td>How To Draw A Shark | Draw with Blippi | Arts ...</td>\n      <td>Non Education</td>\n      <td>how to draw a shark draw blippi art craft for ...</td>\n    </tr>\n    <tr>\n      <th>1</th>\n      <td>3717</td>\n      <td>BLACK ADAM - Official Trailer Dwayne ‘The Rock...</td>\n      <td>Non Education</td>\n      <td>black adam offici trailer dwayn the rock johns...</td>\n    </tr>\n    <tr>\n      <th>2</th>\n      <td>15429</td>\n      <td>girl</td>\n      <td>Non Education</td>\n      <td>girl</td>\n    </tr>\n    <tr>\n      <th>3</th>\n      <td>73054</td>\n      <td>Hands-On Unity 2018.x Game Development for Mob...</td>\n      <td>Education</td>\n      <td>hand on uniti x game develop mobil load asset ...</td>\n    </tr>\n    <tr>\n      <th>4</th>\n      <td>96020</td>\n      <td>Mobile AppSec from an attacker's perspective -...</td>\n      <td>Education</td>\n      <td>mobil appsec attack perspect abhisek datta app...</td>\n    </tr>\n  </tbody>\n</table>\n</div>"
          },
          "metadata": {}
        }
      ],
      "execution_count": 8,
      "metadata": {
        "collapsed": true,
        "jupyter": {
          "source_hidden": false,
          "outputs_hidden": false
        },
        "nteract": {
          "transient": {
            "deleting": false
          }
        },
        "execution": {
          "iopub.status.busy": "2022-10-29T12:09:42.626Z",
          "iopub.execute_input": "2022-10-29T12:09:42.633Z",
          "iopub.status.idle": "2022-10-29T12:09:42.654Z",
          "shell.execute_reply": "2022-10-29T12:09:42.677Z"
        }
      },
      "id": "9d8197c8-a6eb-46fa-823d-57013aeff725"
    },
    {
      "cell_type": "code",
      "source": [
        "vectorizer = TfidfVectorizer(min_df= 3, stop_words=\"english\", sublinear_tf=True, norm='l2', ngram_range=(1, 2))\n",
        "final_features = vectorizer.fit_transform(df['cleaned']).toarray()\n",
        "final_features.shape"
      ],
      "outputs": [],
      "execution_count": 9,
      "metadata": {
        "collapsed": true,
        "jupyter": {
          "source_hidden": false,
          "outputs_hidden": false
        },
        "nteract": {
          "transient": {
            "deleting": false
          }
        },
        "execution": {
          "iopub.status.busy": "2022-10-29T12:09:59.250Z",
          "iopub.execute_input": "2022-10-29T12:09:59.257Z"
        }
      },
      "id": "f93d4d5d-689c-49f6-b3ce-81c28add90cc"
    },
    {
      "cell_type": "code",
      "source": [
        "# this block is to split the dataset into training and testing set \n",
        "X = df['cleaned']\n",
        "Y = df['category']\n",
        "X_train, X_test, y_train, y_test = train_test_split(X, Y, test_size=0.25)\n",
        "\n",
        "# instead of doing these steps one at a time, we can use a pipeline to complete then all at once\n",
        "pipeline = Pipeline([('vect', vectorizer),\n",
        "                     ('chi',  SelectKBest(chi2, k=1200)),\n",
        "                     ('clf', RandomForestClassifier())])\n",
        "\n",
        "# fitting our model and save it in a pickle for later use\n",
        "model = pipeline.fit(X_train, y_train)\n",
        "with open('RandomForest.pickle', 'wb') as f:\n",
        "    pickle.dump(model, f)\n",
        "\n",
        "ytest = np.array(y_test)\n",
        "\n",
        "# confusion matrix and classification report(precision, recall, F1-score)\n",
        "print(classification_report(ytest, model.predict(X_test)))\n",
        "print(confusion_matrix(ytest, model.predict(X_test)))"
      ],
      "outputs": [],
      "execution_count": null,
      "metadata": {
        "collapsed": true,
        "jupyter": {
          "source_hidden": false,
          "outputs_hidden": false
        },
        "nteract": {
          "transient": {
            "deleting": false
          }
        }
      },
      "id": "57a41101-5280-4d13-bbdd-6ce8fc5d2413"
    }
  ],
  "metadata": {
    "kernelspec": {
      "display_name": "Python 3 (ipykernel)",
      "language": "python",
      "name": "python3"
    },
    "language_info": {
      "name": "python",
      "version": "3.10.6",
      "mimetype": "text/x-python",
      "codemirror_mode": {
        "name": "ipython",
        "version": 3
      },
      "pygments_lexer": "ipython3",
      "nbconvert_exporter": "python",
      "file_extension": ".py"
    },
    "nteract": {
      "version": "0.28.0"
    }
  },
  "nbformat": 4,
  "nbformat_minor": 5
}