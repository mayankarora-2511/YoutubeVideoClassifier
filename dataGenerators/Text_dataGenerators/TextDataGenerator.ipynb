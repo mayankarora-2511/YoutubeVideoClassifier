{
  "cells": [
    {
      "cell_type": "code",
      "source": [
        "!pip3 install youtube-search-python"
      ],
      "outputs": [],
      "execution_count": null,
      "metadata": {},
      "id": "88852b5d-957d-4f2f-9edb-ebc69e180144"
    },
    {
      "cell_type": "code",
      "source": [
        "import os\n",
        "from pytube import Channel, YouTube\n",
        "from tqdm import tqdm\n",
        "import pandas as pd\n",
        "from youtubesearchpython import Video, ResultMode"
      ],
      "outputs": [],
      "execution_count": 1,
      "metadata": {
        "execution": {
          "iopub.status.busy": "2022-11-06T12:48:21.205Z",
          "iopub.execute_input": "2022-11-06T12:48:21.219Z",
          "iopub.status.idle": "2022-11-06T12:48:21.646Z",
          "shell.execute_reply": "2022-11-06T12:48:21.652Z"
        }
      },
      "id": "605e960b-88f4-4ca5-90a6-9cf4d98ba0f9"
    },
    {
      "cell_type": "code",
      "source": [
        "channels = {\n",
        "    \"https://www.youtube.com/c/StudyIQcoachingcenter/videos\", # -> Study IQ Education\n",
        "    \"https://www.youtube.com/c/UnacademyJEE/videos\", # -> Unacademy JEE\n",
        "    \"https://www.youtube.com/c/MahendraGuruvideos/videos\", # -> Mahendras\n",
        "    \"https://www.youtube.com/c/Lesics/videos\", # -> Lesics\n",
        "    \"https://www.youtube.com/c/nesoacademy/videos\", # -> Neso Academy\n",
        "    \"https://www.youtube.com/c/DrGajendraPurohitMathematics/videos\", # -> Gajendra Purohit\n",
        "    \"https://www.youtube.com/c/UnacademyGATE/videos\", # -> Unacademy GATE\n",
        "    \"https://www.youtube.com/c/smartereveryday/videos\", # -> Smarter Everyday\n",
        "    \"https://www.youtube.com/c/veritasium/videos\", # -> Veritasium\n",
        "    \"https://www.youtube.com/c/TED/videos\",\n",
        "    \"https://www.youtube.com/c/mitocw/videos\",\n",
        "    \"https://www.youtube.com/c/CodeWithHarry/videos\",\n",
        "    \"https://www.youtube.com/c/SimplilearnOfficial/videos\",\n",
        "    \"https://www.youtube.com/c/DataScienceCoursesUW/videos\",\n",
        "    \"https://www.youtube.com/c/PhysicsWallah/videos\",\n",
        "    \"https://www.youtube.com/c/numberphile/videos\",\n",
        "    \"https://www.youtube.com/c/physicsgirl/videos\",\n",
        "    \"https://www.youtube.com/c/TomRocksMaths/videos\",\n",
        "    \"https://www.youtube.com/c/3blue1brown/videos\",\n",
        "    \"https://www.youtube.com/c/MichelvanBiezen/videos\",\n",
        "    \"https://www.youtube.com/c/MindYourDecisions/videos\",\n",
        "    \"https://www.youtube.com/c/crashcourse/videos\",\n",
        "    \"https://www.youtube.com/c/SciShow/videos\",\n",
        "    \"https://www.youtube.com/channel/UCF7BExjT2zH_mmyqOB139Dg/videos\",\n",
        "    \"https://www.youtube.com/c/khanacademy/videos\",\n",
        "    \"https://www.youtube.com/c/MattAnderson_ProfessorMattAnderson/videos\",\n",
        "    \"https://www.youtube.com/channel/UCVLbzhxVTiTLiVKeGV7WEBg/videos\",\n",
        "    \"https://www.youtube.com/channel/UCJgq70ZWtrVIwHEDYdj-kdg/videos\",\n",
        "    \"https://www.youtube.com/c/MichaelPennMath/videos\",\n",
        "    \"https://www.youtube.com/c/ASGamingsahil/videos\",\n",
        "    \"https://www.youtube.com/c/LOKESHGAMER/videos\",\n",
        "    \"https://www.youtube.com/c/AddictedA1/videos\",\n",
        "    \"https://www.youtube.com/aashiqui2/videos\",\n",
        "    \"https://www.youtube.com/c/SwaggerSharma/videos\",\n",
        "    \"https://www.youtube.com/user/MrBeast6000/videos\",\n",
        "    \"https://www.youtube.com/user/PewDiePie/videos\",\n",
        "    \"https://www.youtube.com/c/FlyingBeast320/videos\",\n",
        "    \"https://www.youtube.com/c/TechnicalGuruji/videos\",\n",
        "    \"https://www.youtube.com/c/ashishchanchlanivines/videos\",\n",
        "    \"https://www.youtube.com/c/setindia/videos\",\n",
        "    \"https://www.youtube.com/c/tipsofficial/videos\",\n",
        "    \"https://www.youtube.com/c/ManieshPaulOfficial/videos\",\n",
        "    \"https://www.youtube.com/channel/UCiKNX0TIMyKgGqQznhR1Xig/videos\",\n",
        "    \"https://www.youtube.com/c/BaldassarreFragrance/videos\",\n",
        "    \"https://www.youtube.com/channel/UCQvykOmBc-P4StIJT2glUkw/videos\",\n",
        "    \"https://www.youtube.com/c/mollyEskam/videos\",\n",
        "    \"https://www.youtube.com/c/abpnews/videos\",\n",
        "    \"https://www.youtube.com/c/BBCNews/videos\",\n",
        "    \"https://www.youtube.com/c/LiveInsaan/videos\",\n",
        "    \"https://www.youtube.com/c/marvel/videos\",\n",
        "    \"https://www.youtube.com/c/htdotcom/videos\",\n",
        "    \"https://www.youtube.com/c/adarshuc/videos\",\n",
        "    \"https://www.youtube.com/c/YesTheory/videos\",\n",
        "    \"https://www.youtube.com/c/ufc/videos\",\n",
        "    \"https://www.youtube.com/c/F1/videos\",\n",
        "}"
      ],
      "outputs": [],
      "execution_count": 2,
      "metadata": {
        "execution": {
          "iopub.status.busy": "2022-11-06T12:48:22.344Z",
          "iopub.execute_input": "2022-11-06T12:48:22.352Z",
          "iopub.status.idle": "2022-11-06T12:48:22.364Z",
          "shell.execute_reply": "2022-11-06T12:48:22.373Z"
        }
      },
      "id": "11ffded5-0029-404c-b473-2566213cd0c3"
    },
    {
      "cell_type": "code",
      "source": [
        "videos = []\n",
        "for channel in tqdm(channels):\n",
        "    try:\n",
        "        c = Channel(channel)\n",
        "        i = 0\n",
        "        for video in c.video_urls:\n",
        "            videos.append(video)\n",
        "            i += 1\n",
        "            if i == 50:\n",
        "                break\n",
        "    except:\n",
        "        continue"
      ],
      "outputs": [
        {
          "output_type": "stream",
          "name": "stderr",
          "text": [
            "100%|██████████| 55/55 [00:41<00:00,  1.33it/s]\n"
          ]
        }
      ],
      "execution_count": 3,
      "metadata": {
        "execution": {
          "iopub.status.busy": "2022-11-06T12:48:23.964Z",
          "iopub.execute_input": "2022-11-06T12:48:23.969Z",
          "iopub.status.idle": "2022-11-06T12:49:05.472Z",
          "shell.execute_reply": "2022-11-06T12:49:05.485Z"
        }
      },
      "id": "1273be2b-2c47-4cc1-abdf-fa7e7d7800c8"
    },
    {
      "cell_type": "code",
      "source": [
        "len(videos)"
      ],
      "outputs": [
        {
          "output_type": "execute_result",
          "execution_count": 4,
          "data": {
            "text/plain": "0"
          },
          "metadata": {}
        }
      ],
      "execution_count": 4,
      "metadata": {
        "tags": [],
        "execution": {
          "iopub.status.busy": "2022-11-06T12:49:43.987Z",
          "iopub.execute_input": "2022-11-06T12:49:43.998Z",
          "iopub.status.idle": "2022-11-06T12:49:44.015Z",
          "shell.execute_reply": "2022-11-06T12:49:44.020Z"
        }
      },
      "id": "bee2c475-dd36-46a5-bbf8-3485592b6536"
    },
    {
      "cell_type": "code",
      "source": [
        "data = {\n",
        "    \"description\": [],\n",
        "    \"category\": [],\n",
        "}"
      ],
      "outputs": [],
      "execution_count": 5,
      "metadata": {},
      "id": "838ff994-6184-4bee-b1a9-ed4418b828e8"
    },
    {
      "cell_type": "code",
      "source": [
        "for video in tqdm(videos):\n",
        "    try:\n",
        "        v = Video.get(video, mode = ResultMode.json, get_upload_date=True)\n",
        "        d = v[\"description\"]\n",
        "        c = v[\"category\"]\n",
        "        if c != \"Education\":\n",
        "            c = \"Not Education\"\n",
        "        data[\"description\"].append(d)\n",
        "        data[\"category\"].append(c)\n",
        "    except Exception as e:\n",
        "        print(e)\n",
        "        continue"
      ],
      "outputs": [
        {
          "output_type": "stream",
          "name": "stderr",
          "text": [
            "100%|███████████████████████████████████████| 2670/2670 [41:14<00:00,  1.08it/s]\n"
          ]
        }
      ],
      "execution_count": 6,
      "metadata": {},
      "id": "3de59ab7-b8c0-4a62-b7f5-b40396d28396"
    },
    {
      "cell_type": "code",
      "source": [
        "dataset = pd.DataFrame(data)\n",
        "print(dataset.head())"
      ],
      "outputs": [
        {
          "output_type": "stream",
          "name": "stdout",
          "text": [
            "                                         description   category\n",
            "0  The design and construction of Golden gate bri...  Education\n",
            "1  Solenoid valve is a crucial component in most ...  Education\n",
            "2  Skip the waitlist and invest in blue-chip art ...  Education\n",
            "3  Hello everyone, please support our educational...  Education\n",
            "4  You might have seen brown shiny devices around...  Education\n"
          ]
        }
      ],
      "execution_count": 7,
      "metadata": {},
      "id": "05293d93-b21b-45ff-bd51-6ffede3f24a8"
    },
    {
      "cell_type": "code",
      "source": [
        "data"
      ],
      "outputs": [],
      "execution_count": null,
      "metadata": {},
      "id": "841e30f1-a5d8-4a69-bdea-4283edb0c8fb"
    },
    {
      "cell_type": "code",
      "source": [
        "dataset.to_csv(\"descriptionData.csv\")"
      ],
      "outputs": [],
      "execution_count": 9,
      "metadata": {},
      "id": "09575933-626d-4b02-a42b-b449edc54d79"
    },
    {
      "cell_type": "code",
      "source": [],
      "outputs": [],
      "execution_count": null,
      "metadata": {},
      "id": "412b5f8c-6dac-49b4-a029-6760620ec93b"
    }
  ],
  "metadata": {
    "kernelspec": {
      "display_name": "Python 3.10.6 64-bit",
      "language": "python",
      "name": "python3"
    },
    "language_info": {
      "name": "python",
      "version": "3.10.6",
      "mimetype": "text/x-python",
      "codemirror_mode": {
        "name": "ipython",
        "version": 3
      },
      "pygments_lexer": "ipython3",
      "nbconvert_exporter": "python",
      "file_extension": ".py"
    },
    "vscode": {
      "interpreter": {
        "hash": "b0fa6594d8f4cbf19f97940f81e996739fb7646882a419484c72d19e05852a7e"
      }
    },
    "nteract": {
      "version": "0.28.0"
    }
  },
  "nbformat": 4,
  "nbformat_minor": 5
}